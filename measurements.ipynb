{
 "cells": [
  {
   "cell_type": "code",
   "execution_count": 1,
   "metadata": {},
   "outputs": [],
   "source": [
    "import numpy as np\n",
    "import napari\n",
    "from skimage.measure import label\n",
    "import cc3d\n",
    "from tifffile import imread, imwrite\n",
    "from glob import glob\n",
    "from utils import *\n",
    "from skimage.morphology import disk, binary_dilation\n",
    "import matplotlib.pyplot as plt\n",
    "import pandas"
   ]
  },
  {
   "cell_type": "markdown",
   "metadata": {},
   "source": [
    "Project uses napari viewer for interaction with images. Installation of napari is necessary. "
   ]
  },
  {
   "cell_type": "code",
   "execution_count": 2,
   "metadata": {},
   "outputs": [],
   "source": [
    "# start the viewer\n",
    "viewer = napari.Viewer()"
   ]
  },
  {
   "cell_type": "code",
   "execution_count": 3,
   "metadata": {},
   "outputs": [
    {
     "data": {
      "text/plain": [
       "<Image layer 'raw' at 0x29b412fa0>"
      ]
     },
     "execution_count": 3,
     "metadata": {},
     "output_type": "execute_result"
    }
   ],
   "source": [
    "# if raw images are tiff filees\n",
    "path = 'hek ctrl J F/HEK J F 5a.ome.tif'\n",
    "raw = imread(path)\n",
    "\n",
    "viewer.add_image(raw, name='raw')"
   ]
  },
  {
   "cell_type": "markdown",
   "metadata": {},
   "source": [
    "Load respective masks for the raw images. Masks should be time-stacks saved as tiff files."
   ]
  },
  {
   "cell_type": "code",
   "execution_count": 4,
   "metadata": {},
   "outputs": [
    {
     "data": {
      "text/plain": [
       "<Labels layer 'sperm' at 0x2afb08a90>"
      ]
     },
     "execution_count": 4,
     "metadata": {},
     "output_type": "execute_result"
    }
   ],
   "source": [
    "# open segmentation\n",
    "path = 'hek ctrl J F/HEK J F 5a_cells.ome.tif'\n",
    "cells = imread(path)\n",
    "\n",
    "path = 'hek ctrl J F/HEK J F 5a_sperm.ome.tif'\n",
    "sperm = imread(path)\n",
    "\n",
    "# label masks\n",
    "sperm_labels = label(sperm)\n",
    "cell_labels = label(cells)\n",
    "\n",
    "# add both labels to napari viewer\n",
    "viewer.add_labels(cell_labels, name='cells')\n",
    "viewer.add_labels(sperm_labels, name='sperm')"
   ]
  },
  {
   "cell_type": "markdown",
   "metadata": {},
   "source": [
    "To select which cell to analyze open viewer and add \"points\" layer, then add points over all sperm cells of interest."
   ]
  },
  {
   "cell_type": "code",
   "execution_count": 6,
   "metadata": {},
   "outputs": [
    {
     "ename": "",
     "evalue": "",
     "output_type": "error",
     "traceback": [
      "\u001b[1;31mThe Kernel crashed while executing code in the the current cell or a previous cell. Please review the code in the cell(s) to identify a possible cause of the failure. Click <a href='https://aka.ms/vscodeJupyterKernelCrash'>here</a> for more info. View Jupyter <a href='command:jupyter.viewOutput'>log</a> for further details."
     ]
    },
    {
     "ename": "",
     "evalue": "",
     "output_type": "error",
     "traceback": [
      "\u001b[1;31mCanceled future for execute_request message before replies were done"
     ]
    }
   ],
   "source": [
    "# choose cell\n",
    "points = viewer.layers['Points'].data\n",
    "\n",
    "for point in points:\n",
    "    cells = viewer.layers['cells'].data\n",
    "    sperm = viewer.layers['sperm'].data\n",
    "\n",
    "    # take cells value from point layer\n",
    "    sperm_id = sperm[0][int(point[1])][int(point[2])]\n",
    "\n",
    "    # take only cell with cell_id\n",
    "    sperm_cell = sperm.copy()\n",
    "    sperm_cell[sperm != sperm_id] = 0\n",
    "\n",
    "    # dilate cell\n",
    "    sperm_cell_dilated = np.zeros_like(sperm_cell)\n",
    "\n",
    "    for i in range(sperm_cell.shape[0]):\n",
    "        # dilate using cv2\n",
    "        kernel = np.ones((3, 3), np.uint8)\n",
    "        sperm_cell_dilated[i] = cv2.dilate(sperm_cell[i].astype(np.uint8), kernel=kernel, iterations=8)\n",
    "\n",
    "    # if any sperm is touching cell dilated, then sperm is interacting with cell\n",
    "    cell = viewer.layers['cells'].data\n",
    "    interacting_labels = np.multiply(sperm_cell_dilated, cell)\n",
    "\n",
    "    sperm_interacting_id, counts = np.unique(interacting_labels, return_counts=True)\n",
    "    sperm_interacting_id = sperm_interacting_id[counts > 1000]\n",
    "    sperm_interacting_id = sperm_interacting_id[1:]\n",
    "\n",
    "    for k, interaction in enumerate(sperm_interacting_id):\n",
    "        print('iteration: ', k)\n",
    "        # if sperm and sperm interacting overlap, get this sperm value\n",
    "        # sperm_cell = viewer.layers['sperm_cell'].data\n",
    "\n",
    "        print('sperm_cell shape is', sperm_cell.shape, 'with labels', np.unique(sperm_cell))\n",
    "        \n",
    "        # create an empty array for angles values\n",
    "        angles = []\n",
    "\n",
    "        # do angle measurements for all time frames\n",
    "        \n",
    "        # find stack where the overlap is present\n",
    "        overlap = interacting_labels.copy()\n",
    "        overlap[overlap != interaction] = 0\n",
    "\n",
    "        for stack in overlap:\n",
    "            if np.sum(overlap) > 0:\n",
    "                # get overlap coordinates\n",
    "                overlap_coords = np.array(np.where(stack != 0))\n",
    "                break\n",
    "\n",
    "        # compute cell line and cell vector\n",
    "        cell_line, cell_vector = compute_cell_vector(overlap_coords)\n",
    "\n",
    "        # print('cell_line', cell_line)\n",
    "\n",
    "        # n = 2 * sperm_cell.shape[0]\n",
    "        # d = 3\n",
    "        # pos = np.zeros(shape=(n, 2, d), dtype=np.float32)\n",
    "        # vector_number = 0\n",
    "\n",
    "        for i, sperm in enumerate(sperm_cell):\n",
    "            sperm_line, sperm_vector = compute_sperm_cell_vector(sperm)\n",
    "            intersection = find_intersection(cell_line, sperm_line)\n",
    "\n",
    "            if intersection == None:\n",
    "                continue\n",
    "\n",
    "            angle = compute_angle(cell_vector, sperm_vector)\n",
    "            print(f'angle between cell and sperm on plane {i}: ', angle)\n",
    "            angles.append(angle)\n",
    "\n",
    "            # if i == 1:\n",
    "            # pos[vector_number, 0, :] = (i, *intersection)\n",
    "            # pos[vector_number, 1, :] = (i, *sperm_vector)\n",
    "            # vector_number += 1\n",
    "\n",
    "            # pos[vector_number, 0, :] = (i, *intersection)\n",
    "            # pos[vector_number, 1, :] = (i, *cell_vector)\n",
    "            # vector_number += 1\n",
    "            \n",
    "            \n",
    "        # vect = viewer.add_vectors(pos, edge_width=1, length=10, name='cell vect')\n",
    "\n",
    "        # create dataframe\n",
    "        df = pandas.DataFrame(angles)\n",
    "        # rename column\n",
    "        df.columns = ['angle']\n",
    "        # add new column with same value\n",
    "        df['time'] = np.arange(len(angles))\n",
    "        # compute angle change\n",
    "        df['angle_change'] = abs(df['angle'].diff())\n",
    "        # save to csv\n",
    "        df.to_csv(f'cell_{point[0][1], point[0][2]}_{k}.csv')\n",
    "        print(df)"
   ]
  }
 ],
 "metadata": {
  "interpreter": {
   "hash": "cf8b8dc69b1e5e9e29a60c14484e944963fde31a86d7ee3b3123eab1914142be"
  },
  "kernelspec": {
   "display_name": "Python 3 (ipykernel)",
   "language": "python",
   "name": "python3"
  },
  "language_info": {
   "codemirror_mode": {
    "name": "ipython",
    "version": 3
   },
   "file_extension": ".py",
   "mimetype": "text/x-python",
   "name": "python",
   "nbconvert_exporter": "python",
   "pygments_lexer": "ipython3",
   "version": "3.9.0"
  }
 },
 "nbformat": 4,
 "nbformat_minor": 2
}
