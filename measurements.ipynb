{
 "cells": [
  {
   "cell_type": "code",
   "execution_count": 1,
   "metadata": {},
   "outputs": [],
   "source": [
    "%load_ext autoreload\n",
    "%autoreload 2"
   ]
  },
  {
   "cell_type": "code",
   "execution_count": 2,
   "metadata": {},
   "outputs": [],
   "source": [
    "import numpy as np\n",
    "import napari\n",
    "from skimage.measure import label\n",
    "import cc3d\n",
    "from tifffile import imread, imwrite\n",
    "from glob import glob\n",
    "from utils import *\n",
    "from skimage.morphology import disk, binary_dilation\n",
    "import matplotlib.pyplot as plt\n",
    "import pandas\n"
   ]
  },
  {
   "cell_type": "markdown",
   "metadata": {},
   "source": [
    "Project uses napari viewer for interaction with images. Installation of napari is necessary. "
   ]
  },
  {
   "cell_type": "code",
   "execution_count": 3,
   "metadata": {},
   "outputs": [],
   "source": [
    "# start the viewer\n",
    "viewer = napari.Viewer()"
   ]
  },
  {
   "cell_type": "markdown",
   "metadata": {},
   "source": [
    "Original images should be avi videos. If raw images are tiff file use next cell to load them."
   ]
  },
  {
   "cell_type": "code",
   "execution_count": 3,
   "metadata": {},
   "outputs": [
    {
     "data": {
      "text/plain": [
       "<Image layer 'frames' at 0x29b7a80d0>"
      ]
     },
     "execution_count": 3,
     "metadata": {},
     "output_type": "execute_result"
    }
   ],
   "source": [
    "# open original data and add it to napari viewer\n",
    "filepath = 'video_sperm/Jeko1_videa/FcRL3_siRNAIII.avi'\n",
    "image_data = get_image_data(filepath)\n",
    "viewer.add_image(image_data, name='frames')"
   ]
  },
  {
   "cell_type": "code",
   "execution_count": 4,
   "metadata": {},
   "outputs": [
    {
     "data": {
      "text/plain": [
       "<Image layer 'raw' at 0x2b1ccae20>"
      ]
     },
     "execution_count": 4,
     "metadata": {},
     "output_type": "execute_result"
    }
   ],
   "source": [
    "# if raw images are tiff filees\n",
    "path = 'hek ctrl J F/HEK ctrl 1.ome.tif'\n",
    "raw = imread(path)\n",
    "\n",
    "viewer.add_image(raw, name='raw')"
   ]
  },
  {
   "cell_type": "markdown",
   "metadata": {},
   "source": [
    "Load respective masks for the raw images. Masks should be time-stacks saved as tiff files."
   ]
  },
  {
   "cell_type": "code",
   "execution_count": 7,
   "metadata": {},
   "outputs": [
    {
     "data": {
      "text/plain": [
       "<Labels layer 'sperm [1]' at 0x13043b8b0>"
      ]
     },
     "execution_count": 7,
     "metadata": {},
     "output_type": "execute_result"
    },
    {
     "name": "stderr",
     "output_type": "stream",
     "text": [
      "AGX: exceeded compiled variants footprint limit\n"
     ]
    }
   ],
   "source": [
    "# open segmentation\n",
    "path = 'hek ctrl J F/HEK ctrl 1_cells.ome.tif'\n",
    "cells = imread(path)\n",
    "\n",
    "path = 'hek ctrl J F/HEK ctrl 1_sperm.ome.tif'\n",
    "sperm = imread(path)\n",
    "\n",
    "# label masks\n",
    "sperm_labels = label(sperm)\n",
    "cell_labels = label(cells)\n",
    "\n",
    "# add both labels to napari viewer\n",
    "viewer.add_labels(cell_labels, name='cells')\n",
    "viewer.add_labels(sperm_labels, name='sperm')"
   ]
  },
  {
   "cell_type": "markdown",
   "metadata": {},
   "source": [
    "To select which cell to analyze open viewer and add \"points\" layer, then add point over the cell of interest."
   ]
  },
  {
   "cell_type": "code",
   "execution_count": null,
   "metadata": {},
   "outputs": [],
   "source": [
    "# choose cell\n",
    "point = viewer.layers['Points'].data"
   ]
  },
  {
   "cell_type": "code",
   "execution_count": 23,
   "metadata": {},
   "outputs": [
    {
     "data": {
      "text/plain": [
       "<Labels layer 'cell' at 0x2aad67820>"
      ]
     },
     "execution_count": 23,
     "metadata": {},
     "output_type": "execute_result"
    }
   ],
   "source": [
    "cells = viewer.layers['cells'].data\n",
    "sperm = viewer.layers['sperm'].data\n",
    "\n",
    "# take cells value from point layer\n",
    "cell_id = cells[0][int(point[0][1])][int(point[0][2])]\n",
    "\n",
    "# take only cell with cell_id\n",
    "cell = cells.copy()\n",
    "cell[cells != cell_id] = 0\n",
    "viewer.add_labels(cell, name='cell')"
   ]
  },
  {
   "cell_type": "code",
   "execution_count": 24,
   "metadata": {},
   "outputs": [
    {
     "data": {
      "text/plain": [
       "<Labels layer 'cell_dilated' at 0x2aeaae850>"
      ]
     },
     "execution_count": 24,
     "metadata": {},
     "output_type": "execute_result"
    }
   ],
   "source": [
    "# dilate cell by 3 pixels\n",
    "cell_dilated = np.zeros_like(cell)\n",
    "for i in range(cell.shape[0]):\n",
    "    # dilate using cv2\n",
    "    kernel = np.ones((3, 3), np.uint8)\n",
    "    cell_dilated[i] = cv2.dilate(cell[i].astype(np.uint8), kernel=kernel, iterations=4)\n",
    "\n",
    "viewer.add_labels(cell_dilated, name='cell_dilated')"
   ]
  },
  {
   "cell_type": "markdown",
   "metadata": {},
   "source": [
    "Here, we use dilated sperm cell to define the region of interaction between cell and sperm cell."
   ]
  },
  {
   "cell_type": "code",
   "execution_count": 25,
   "metadata": {},
   "outputs": [
    {
     "name": "stdout",
     "output_type": "stream",
     "text": [
      "[     0   8528  28700  39688 205984]\n"
     ]
    }
   ],
   "source": [
    "# if any sperm is touching cell dilated, then sperm is interacting with cell\n",
    "sperm = viewer.layers['sperm'].data\n",
    "sperm_interacting = np.multiply(sperm, cell_dilated)\n",
    "print(np.unique(sperm_interacting))"
   ]
  },
  {
   "cell_type": "code",
   "execution_count": 26,
   "metadata": {},
   "outputs": [
    {
     "name": "stdout",
     "output_type": "stream",
     "text": [
      "[8528] [637118099     10242        85        57         9]\n"
     ]
    }
   ],
   "source": [
    "sperm_interacting_id, counts = np.unique(sperm_interacting, return_counts=True)\n",
    "sperm_interacting_id = sperm_interacting_id[counts > 1000]\n",
    "sperm_interacting_id = sperm_interacting_id[1:]\n",
    "print(sperm_interacting_id, counts)"
   ]
  },
  {
   "cell_type": "markdown",
   "metadata": {},
   "source": [
    "Perform measurements through all time stacks and save results to csv table."
   ]
  },
  {
   "cell_type": "code",
   "execution_count": 27,
   "metadata": {},
   "outputs": [
    {
     "name": "stdout",
     "output_type": "stream",
     "text": [
      "iteration:  0\n",
      "sperm_cell shape is (203, 1534, 2046) with labels [ 0 52]\n",
      "overlap_coords [[903 903 903 904 904 904 904 905 905 905 905 906 906 906 906 907 907 907\n",
      "  907 907 907 908 908 908 908 908 909 909 909 909 910 910 910 910 910 911\n",
      "  911 911 911 911 912 912 912 912 913 913 913 913 914 914 914 915 915 916\n",
      "  917]\n",
      " [ 55  56  57  56  57  58  59  57  58  59  60  58  59  60  61  58  59  60\n",
      "   61  62  63  59  60  61  62  63  60  61  62  63  60  61  62  63  64  61\n",
      "   62  63  64  65  63  64  65  66  64  65  66  67  65  66  67  67  68  68\n",
      "   69]]\n",
      "cell_line (array([903,  55]), array([917,  69]))\n",
      "angle between cell and sperm on plane 0:  28.66395711028153\n",
      "angle between cell and sperm on plane 1:  28.300755766006375\n",
      "angle between cell and sperm on plane 2:  27.181111085477212\n",
      "angle between cell and sperm on plane 3:  27.52522574374433\n",
      "angle between cell and sperm on plane 4:  20.43282867939867\n",
      "angle between cell and sperm on plane 5:  25.346175941946676\n",
      "angle between cell and sperm on plane 6:  24.274441134439453\n",
      "angle between cell and sperm on plane 7:  23.875280853927517\n",
      "angle between cell and sperm on plane 8:  24.71744091108338\n",
      "angle between cell and sperm on plane 9:  30.12431799836119\n",
      "angle between cell and sperm on plane 10:  28.11320887605595\n",
      "angle between cell and sperm on plane 11:  25.906507999514382\n",
      "angle between cell and sperm on plane 12:  28.39301942138299\n",
      "angle between cell and sperm on plane 13:  24.304549265936693\n",
      "angle between cell and sperm on plane 14:  26.56505117707798\n",
      "angle between cell and sperm on plane 15:  23.459024081461532\n",
      "angle between cell and sperm on plane 16:  23.428692808745378\n",
      "angle between cell and sperm on plane 17:  20.43282867939867\n",
      "angle between cell and sperm on plane 18:  22.479434397103105\n",
      "angle between cell and sperm on plane 19:  24.304549265936693\n",
      "angle between cell and sperm on plane 20:  24.304549265936693\n",
      "angle between cell and sperm on plane 21:  22.479434397103105\n",
      "angle between cell and sperm on plane 22:  24.145541960421642\n",
      "angle between cell and sperm on plane 23:  29.827084654474724\n",
      "angle between cell and sperm on plane 24:  29.42745640318972\n",
      "angle between cell and sperm on plane 25:  29.827084654474724\n",
      "angle between cell and sperm on plane 26:  30.30268072048808\n",
      "angle between cell and sperm on plane 27:  31.171349027719835\n",
      "angle between cell and sperm on plane 28:  32.00538320808349\n",
      "angle between cell and sperm on plane 29:  31.171349027719835\n",
      "angle between cell and sperm on plane 30:  23.875280853927517\n",
      "angle between cell and sperm on plane 31:  21.447736327105346\n",
      "angle between cell and sperm on plane 32:  24.304549265936693\n",
      "angle between cell and sperm on plane 33:  24.304549265936693\n",
      "angle between cell and sperm on plane 34:  27.52522574374433\n",
      "angle between cell and sperm on plane 35:  25.906507999514382\n",
      "angle between cell and sperm on plane 36:  23.682087724538444\n",
      "angle between cell and sperm on plane 37:  25.769327624338704\n",
      "angle between cell and sperm on plane 38:  25.346175941946676\n",
      "angle between cell and sperm on plane 39:  22.166345822082437\n",
      "angle between cell and sperm on plane 40:  24.145541960421642\n",
      "angle between cell and sperm on plane 41:  23.19859051364817\n",
      "angle between cell and sperm on plane 42:  22.479434397103105\n",
      "angle between cell and sperm on plane 43:  23.198590513648185\n",
      "angle between cell and sperm on plane 44:  25.70995378081124\n",
      "angle between cell and sperm on plane 45:  23.198590513648185\n",
      "angle between cell and sperm on plane 46:  23.459024081461532\n",
      "angle between cell and sperm on plane 47:  25.144785630678925\n",
      "angle between cell and sperm on plane 48:  24.44395478041653\n",
      "angle between cell and sperm on plane 49:  22.693794945092343\n",
      "angle between cell and sperm on plane 50:  22.479434397103105\n",
      "angle between cell and sperm on plane 51:  24.71744091108338\n",
      "angle between cell and sperm on plane 52:  25.016893478100005\n",
      "angle between cell and sperm on plane 53:  23.682087724538444\n",
      "angle between cell and sperm on plane 54:  22.166345822082437\n",
      "angle between cell and sperm on plane 55:  29.05460409907714\n",
      "angle between cell and sperm on plane 56:  25.497551493337767\n",
      "angle between cell and sperm on plane 57:  23.428692808745378\n",
      "angle between cell and sperm on plane 58:  9.68878656036675\n",
      "angle between cell and sperm on plane 59:  22.693794945092343\n",
      "angle between cell and sperm on plane 60:  13.736268305622554\n",
      "angle between cell and sperm on plane 61:  6.34019174590985\n",
      "angle between cell and sperm on plane 62:  10.007979801441312\n",
      "angle between cell and sperm on plane 63:  10.304846468766009\n",
      "angle between cell and sperm on plane 64:  4.398705354995508\n",
      "angle between cell and sperm on plane 65:  3.5763343749971668\n",
      "angle between cell and sperm on plane 66:  4.085616779974799\n",
      "angle between cell and sperm on plane 67:  6.34019174590985\n",
      "angle between cell and sperm on plane 68:  8.746162262555128\n",
      "angle between cell and sperm on plane 69:  14.036243467926457\n",
      "angle between cell and sperm on plane 70:  9.782407031807248\n",
      "angle between cell and sperm on plane 71:  10.491477012331565\n",
      "angle between cell and sperm on plane 72:  11.309932474020195\n",
      "angle between cell and sperm on plane 73:  10.619655276155106\n",
      "angle between cell and sperm on plane 74:  15.524110996754226\n",
      "angle between cell and sperm on plane 75:  18.434948822921974\n",
      "angle between cell and sperm on plane 76:  12.26477372789237\n",
      "angle between cell and sperm on plane 77:  11.309932474020195\n",
      "angle between cell and sperm on plane 78:  10.304846468766009\n",
      "angle between cell and sperm on plane 79:  4.8990924537876985\n",
      "angle between cell and sperm on plane 80:  22.520565602896873\n",
      "angle between cell and sperm on plane 81:  6.709836807756842\n",
      "angle between cell and sperm on plane 82:  14.036243467926457\n",
      "angle between cell and sperm on plane 83:  19.79887635452491\n",
      "angle between cell and sperm on plane 84:  22.75097634278762\n",
      "angle between cell and sperm on plane 85:  24.44395478041653\n",
      "angle between cell and sperm on plane 86:  18.434948822921974\n",
      "angle between cell and sperm on plane 87:  14.349332042947113\n",
      "angle between cell and sperm on plane 88:  21.03751102542179\n",
      "angle between cell and sperm on plane 89:  14.62087398863162\n",
      "angle between cell and sperm on plane 90:  27.255328374943062\n",
      "angle between cell and sperm on plane 91:  26.878139752098633\n",
      "angle between cell and sperm on plane 92:  25.906507999514382\n",
      "angle between cell and sperm on plane 93:  32.300415510402615\n",
      "angle between cell and sperm on plane 94:  33.07067782276166\n",
      "angle between cell and sperm on plane 95:  25.866356794094497\n",
      "angle between cell and sperm on plane 96:  25.866356794094497\n",
      "angle between cell and sperm on plane 97:  24.44395478041653\n",
      "angle between cell and sperm on plane 98:  27.29957221133279\n",
      "angle between cell and sperm on plane 99:  23.749494492866752\n",
      "angle between cell and sperm on plane 100:  18.434948822921974\n",
      "angle between cell and sperm on plane 101:  25.42687416958978\n",
      "angle between cell and sperm on plane 102:  29.827084654474724\n",
      "angle between cell and sperm on plane 103:  30.735487701920093\n",
      "angle between cell and sperm on plane 104:  31.809389287793145\n",
      "angle between cell and sperm on plane 105:  31.809389287793145\n",
      "angle between cell and sperm on plane 106:  32.195733934713246\n",
      "angle between cell and sperm on plane 107:  31.399457483341237\n",
      "angle between cell and sperm on plane 108:  34.90249561592471\n",
      "angle between cell and sperm on plane 109:  34.286876977208955\n",
      "angle between cell and sperm on plane 110:  35.326644567596496\n",
      "angle between cell and sperm on plane 111:  35.21759296819271\n",
      "angle between cell and sperm on plane 112:  35.41705527646742\n",
      "angle between cell and sperm on plane 113:  35.31121343963319\n",
      "angle between cell and sperm on plane 114:  35.882137246204195\n",
      "angle between cell and sperm on plane 115:  35.03619581009281\n",
      "angle between cell and sperm on plane 116:  33.69006752597977\n",
      "angle between cell and sperm on plane 117:  34.1769887737929\n",
      "angle between cell and sperm on plane 118:  34.90249561592471\n",
      "angle between cell and sperm on plane 119:  34.90249561592471\n",
      "angle between cell and sperm on plane 120:  32.47119229084848\n",
      "angle between cell and sperm on plane 121:  32.47119229084848\n",
      "angle between cell and sperm on plane 122:  32.07400087529404\n",
      "angle between cell and sperm on plane 123:  35.94211187138233\n",
      "angle between cell and sperm on plane 124:  35.66500153686176\n",
      "angle between cell and sperm on plane 125:  35.78897345918332\n",
      "angle between cell and sperm on plane 126:  33.996459148250494\n",
      "angle between cell and sperm on plane 127:  32.845058302777765\n",
      "angle between cell and sperm on plane 128:  35.65532809790031\n",
      "angle between cell and sperm on plane 129:  35.03619581009281\n",
      "angle between cell and sperm on plane 130:  33.02386755579663\n",
      "angle between cell and sperm on plane 131:  34.90249561592471\n",
      "angle between cell and sperm on plane 132:  36.43085812016234\n",
      "angle between cell and sperm on plane 133:  35.13419305691563\n",
      "angle between cell and sperm on plane 134:  35.406865737269655\n",
      "angle between cell and sperm on plane 135:  34.845733419799735\n",
      "angle between cell and sperm on plane 136:  30.96375653207352\n",
      "angle between cell and sperm on plane 137:  31.399457483341237\n",
      "angle between cell and sperm on plane 138:  35.27242144859839\n",
      "angle between cell and sperm on plane 139:  34.76519723657678\n",
      "angle between cell and sperm on plane 140:  35.406865737269655\n",
      "angle between cell and sperm on plane 141:  33.857110141660684\n",
      "angle between cell and sperm on plane 142:  33.518008645251896\n",
      "angle between cell and sperm on plane 143:  32.6609127216738\n",
      "angle between cell and sperm on plane 144:  34.1769887737929\n",
      "angle between cell and sperm on plane 145:  33.36636600105955\n",
      "angle between cell and sperm on plane 146:  32.6609127216738\n",
      "angle between cell and sperm on plane 147:  33.19756579221643\n",
      "angle between cell and sperm on plane 148:  34.47921568612563\n",
      "angle between cell and sperm on plane 149:  34.62415507994894\n",
      "angle between cell and sperm on plane 150:  32.799531272619205\n",
      "angle between cell and sperm on plane 151:  34.143586651937746\n",
      "angle between cell and sperm on plane 152:  31.42956561483851\n",
      "angle between cell and sperm on plane 153:  27.979474388480124\n",
      "angle between cell and sperm on plane 154:  26.916554616951323\n",
      "angle between cell and sperm on plane 155:  25.82099197418927\n",
      "angle between cell and sperm on plane 156:  27.645975363738668\n",
      "angle between cell and sperm on plane 157:  31.86597769360367\n",
      "angle between cell and sperm on plane 158:  32.77487732426424\n",
      "angle between cell and sperm on plane 159:  32.845058302777765\n",
      "angle between cell and sperm on plane 160:  31.200514603980626\n",
      "angle between cell and sperm on plane 161:  32.47119229084848\n",
      "angle between cell and sperm on plane 162:  36.098283967107996\n",
      "angle between cell and sperm on plane 163:  35.43331401028557\n",
      "angle between cell and sperm on plane 164:  35.0279423126689\n",
      "angle between cell and sperm on plane 165:  35.85835977647509\n",
      "angle between cell and sperm on plane 166:  37.35959323897323\n",
      "angle between cell and sperm on plane 167:  27.801458779934116\n",
      "angle between cell and sperm on plane 168:  26.56505117707798\n",
      "angle between cell and sperm on plane 169:  26.965714432870133\n",
      "angle between cell and sperm on plane 170:  26.56505117707798\n",
      "angle between cell and sperm on plane 171:  26.14684123558088\n",
      "angle between cell and sperm on plane 172:  25.70995378081124\n",
      "angle between cell and sperm on plane 173:  24.274441134439453\n",
      "angle between cell and sperm on plane 174:  23.962488974578182\n",
      "angle between cell and sperm on plane 175:  23.962488974578182\n",
      "angle between cell and sperm on plane 176:  36.57303097851933\n",
      "angle between cell and sperm on plane 177:  36.14204123637164\n",
      "angle between cell and sperm on plane 178:  35.96051719664487\n",
      "angle between cell and sperm on plane 179:  36.098283967107996\n",
      "angle between cell and sperm on plane 180:  35.882137246204195\n",
      "angle between cell and sperm on plane 181:  35.43331401028557\n",
      "angle between cell and sperm on plane 182:  36.15818543980832\n",
      "angle between cell and sperm on plane 183:  35.75388725443674\n",
      "angle between cell and sperm on plane 184:  37.600405340112886\n",
      "angle between cell and sperm on plane 185:  39.21760767763596\n",
      "angle between cell and sperm on plane 186:  37.46055486049068\n",
      "angle between cell and sperm on plane 187:  37.97160376105038\n",
      "angle between cell and sperm on plane 188:  38.15722658736905\n",
      "angle between cell and sperm on plane 189:  37.775684305954655\n",
      "angle between cell and sperm on plane 190:  35.94211187138233\n",
      "angle between cell and sperm on plane 191:  36.06940989958099\n",
      "angle between cell and sperm on plane 192:  36.06940989958099\n",
      "angle between cell and sperm on plane 193:  34.695153531233956\n",
      "angle between cell and sperm on plane 194:  36.57303097851933\n",
      "angle between cell and sperm on plane 195:  27.52522574374433\n",
      "angle between cell and sperm on plane 196:  26.916554616951323\n",
      "angle between cell and sperm on plane 197:  33.340707346477\n",
      "angle between cell and sperm on plane 198:  32.07400087529404\n",
      "angle between cell and sperm on plane 199:  25.114834886144553\n",
      "angle between cell and sperm on plane 200:  30.735487701920093\n",
      "angle between cell and sperm on plane 201:  32.07400087529404\n",
      "angle between cell and sperm on plane 202:  35.1939072401029\n",
      "         angle  time  angle_change\n",
      "0    28.663957     0           NaN\n",
      "1    28.300756     1      0.363201\n",
      "2    27.181111     2      1.119645\n",
      "3    27.525226     3      0.344115\n",
      "4    20.432829     4      7.092397\n",
      "..         ...   ...           ...\n",
      "198  32.074001   198      1.266706\n",
      "199  25.114835   199      6.959166\n",
      "200  30.735488   200      5.620653\n",
      "201  32.074001   201      1.338513\n",
      "202  35.193907   202      3.119906\n",
      "\n",
      "[203 rows x 3 columns]\n"
     ]
    }
   ],
   "source": [
    "for k, interaction in enumerate(sperm_interacting_id):\n",
    "    print('iteration: ', k)\n",
    "    # if sperm and sperm interacting overlap, get this sperm value\n",
    "    sperm_coords = np.array(np.where(sperm_interacting == interaction)).T[0]\n",
    "    sperm = viewer.layers['sperm'].data\n",
    "    sperm_cell_value = sperm[sperm_coords[0], sperm_coords[1], sperm_coords[2]]\n",
    "\n",
    "    # create sperm cell \n",
    "    sperm_cell = sperm.copy()\n",
    "    sperm_cell[sperm != sperm_cell_value] = 0\n",
    "    viewer.add_labels(sperm_cell, name='sperm_cell')\n",
    "\n",
    "    print('sperm_cell shape is', sperm_cell.shape, 'with labels', np.unique(sperm_cell))\n",
    "    \n",
    "    # create an empty array for angles values\n",
    "    angles = []\n",
    "\n",
    "    # now do angle measurements for all time frames\n",
    "    cell = viewer.layers['cell_dilated'].data\n",
    "    \n",
    "    # find stack where the overlap is present\n",
    "    overlap = sperm_interacting.copy()\n",
    "    overlap[overlap != interaction] = 0\n",
    "\n",
    "    for stack in overlap:\n",
    "        if np.sum(overlap) > 0:\n",
    "            # get overlap coordinates\n",
    "            overlap_coords = np.array(np.where(stack != 0))\n",
    "            break\n",
    "    print('overlap_coords', overlap_coords)\n",
    "\n",
    "    # compute cell line and cell vector\n",
    "    cell_line, cell_vector = compute_cell_vector(overlap_coords)\n",
    "\n",
    "    print('cell_line', cell_line)\n",
    "\n",
    "    n = 2 * sperm_cell.shape[0]\n",
    "    d = 3\n",
    "    pos = np.zeros(shape=(n, 2, d), dtype=np.float32)\n",
    "    vector_number = 0\n",
    "\n",
    "    # lines = []\n",
    "    for i, sperm in enumerate(sperm_cell):\n",
    "        sperm_line, sperm_vector = compute_sperm_cell_vector(sperm)\n",
    "        intersection = find_intersection(cell_line, sperm_line)\n",
    "\n",
    "        if intersection == None:\n",
    "            continue\n",
    "\n",
    "        angle = compute_angle(cell_vector, sperm_vector)\n",
    "        print(f'angle between cell and sperm on plane {i}: ', angle)\n",
    "        angles.append(angle)\n",
    "\n",
    "        # if i == 1:\n",
    "        pos[vector_number, 0, :] = (i, *intersection)\n",
    "        pos[vector_number, 1, :] = (i, *sperm_vector)\n",
    "        vector_number += 1\n",
    "\n",
    "        pos[vector_number, 0, :] = (i, *intersection)\n",
    "        pos[vector_number, 1, :] = (i, *cell_vector)\n",
    "        vector_number += 1\n",
    "        \n",
    "          \n",
    "    vect = viewer.add_vectors(pos, edge_width=1, length=10, name='cell vect')\n",
    "\n",
    "    # create dataframe\n",
    "    df = pandas.DataFrame(angles)\n",
    "    # rename column\n",
    "    df.columns = ['angle']\n",
    "    # add new column with same value\n",
    "    df['time'] = np.arange(len(angles))\n",
    "    # compute angle change\n",
    "    df['angle_change'] = abs(df['angle'].diff())\n",
    "    # save to csv\n",
    "    df.to_csv(f'cell_{point[0][1], point[0][2]}_{k}.csv')\n",
    "    print(df)\n",
    "        "
   ]
  }
 ],
 "metadata": {
  "interpreter": {
   "hash": "cf8b8dc69b1e5e9e29a60c14484e944963fde31a86d7ee3b3123eab1914142be"
  },
  "kernelspec": {
   "display_name": "Python 3 (ipykernel)",
   "language": "python",
   "name": "python3"
  },
  "language_info": {
   "codemirror_mode": {
    "name": "ipython",
    "version": 3
   },
   "file_extension": ".py",
   "mimetype": "text/x-python",
   "name": "python",
   "nbconvert_exporter": "python",
   "pygments_lexer": "ipython3",
   "version": "3.9.0"
  }
 },
 "nbformat": 4,
 "nbformat_minor": 2
}
